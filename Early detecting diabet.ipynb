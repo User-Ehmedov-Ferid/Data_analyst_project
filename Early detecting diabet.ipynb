{
 "cells": [
  {
   "cell_type": "code",
   "execution_count": 1,
   "id": "a8276883",
   "metadata": {},
   "outputs": [],
   "source": [
    "import pandas as pd \n",
    "import seaborn as sns \n",
    "import matplotlib.pyplot as plt \n",
    "from sklearn.model_selection import train_test_split\n",
    "from sklearn.dummy import DummyClassifier\n",
    "from sklearn.linear_model import LogisticRegression\n",
    "from sklearn import tree\n",
    "from sklearn.tree import DecisionTreeClassifier\n",
    "from sklearn.ensemble import RandomForestClassifier\n",
    "from sklearn.metrics import confusion_matrix , classification_report\n",
    "%matplotlib inline"
   ]
  },
  {
   "cell_type": "code",
   "execution_count": 2,
   "id": "5421d810",
   "metadata": {},
   "outputs": [],
   "source": [
    "diabet = pd.read_csv(r'C:\\Users\\User\\Downloads\\diabetes_data_upload.csv')"
   ]
  },
  {
   "cell_type": "code",
   "execution_count": 3,
   "id": "41e5b3c9",
   "metadata": {},
   "outputs": [
    {
     "data": {
      "text/html": [
       "<div>\n",
       "<style scoped>\n",
       "    .dataframe tbody tr th:only-of-type {\n",
       "        vertical-align: middle;\n",
       "    }\n",
       "\n",
       "    .dataframe tbody tr th {\n",
       "        vertical-align: top;\n",
       "    }\n",
       "\n",
       "    .dataframe thead th {\n",
       "        text-align: right;\n",
       "    }\n",
       "</style>\n",
       "<table border=\"1\" class=\"dataframe\">\n",
       "  <thead>\n",
       "    <tr style=\"text-align: right;\">\n",
       "      <th></th>\n",
       "      <th>Age</th>\n",
       "      <th>Gender</th>\n",
       "      <th>Polyuria</th>\n",
       "      <th>Polydipsia</th>\n",
       "      <th>sudden weight loss</th>\n",
       "      <th>weakness</th>\n",
       "      <th>Polyphagia</th>\n",
       "      <th>Genital thrush</th>\n",
       "      <th>visual blurring</th>\n",
       "      <th>Itching</th>\n",
       "      <th>Irritability</th>\n",
       "      <th>delayed healing</th>\n",
       "      <th>partial paresis</th>\n",
       "      <th>muscle stiffness</th>\n",
       "      <th>Alopecia</th>\n",
       "      <th>Obesity</th>\n",
       "      <th>class</th>\n",
       "    </tr>\n",
       "  </thead>\n",
       "  <tbody>\n",
       "    <tr>\n",
       "      <th>0</th>\n",
       "      <td>40</td>\n",
       "      <td>Male</td>\n",
       "      <td>No</td>\n",
       "      <td>Yes</td>\n",
       "      <td>No</td>\n",
       "      <td>Yes</td>\n",
       "      <td>No</td>\n",
       "      <td>No</td>\n",
       "      <td>No</td>\n",
       "      <td>Yes</td>\n",
       "      <td>No</td>\n",
       "      <td>Yes</td>\n",
       "      <td>No</td>\n",
       "      <td>Yes</td>\n",
       "      <td>Yes</td>\n",
       "      <td>Yes</td>\n",
       "      <td>Positive</td>\n",
       "    </tr>\n",
       "    <tr>\n",
       "      <th>1</th>\n",
       "      <td>58</td>\n",
       "      <td>Male</td>\n",
       "      <td>No</td>\n",
       "      <td>No</td>\n",
       "      <td>No</td>\n",
       "      <td>Yes</td>\n",
       "      <td>No</td>\n",
       "      <td>No</td>\n",
       "      <td>Yes</td>\n",
       "      <td>No</td>\n",
       "      <td>No</td>\n",
       "      <td>No</td>\n",
       "      <td>Yes</td>\n",
       "      <td>No</td>\n",
       "      <td>Yes</td>\n",
       "      <td>No</td>\n",
       "      <td>Positive</td>\n",
       "    </tr>\n",
       "    <tr>\n",
       "      <th>2</th>\n",
       "      <td>41</td>\n",
       "      <td>Male</td>\n",
       "      <td>Yes</td>\n",
       "      <td>No</td>\n",
       "      <td>No</td>\n",
       "      <td>Yes</td>\n",
       "      <td>Yes</td>\n",
       "      <td>No</td>\n",
       "      <td>No</td>\n",
       "      <td>Yes</td>\n",
       "      <td>No</td>\n",
       "      <td>Yes</td>\n",
       "      <td>No</td>\n",
       "      <td>Yes</td>\n",
       "      <td>Yes</td>\n",
       "      <td>No</td>\n",
       "      <td>Positive</td>\n",
       "    </tr>\n",
       "    <tr>\n",
       "      <th>3</th>\n",
       "      <td>45</td>\n",
       "      <td>Male</td>\n",
       "      <td>No</td>\n",
       "      <td>No</td>\n",
       "      <td>Yes</td>\n",
       "      <td>Yes</td>\n",
       "      <td>Yes</td>\n",
       "      <td>Yes</td>\n",
       "      <td>No</td>\n",
       "      <td>Yes</td>\n",
       "      <td>No</td>\n",
       "      <td>Yes</td>\n",
       "      <td>No</td>\n",
       "      <td>No</td>\n",
       "      <td>No</td>\n",
       "      <td>No</td>\n",
       "      <td>Positive</td>\n",
       "    </tr>\n",
       "    <tr>\n",
       "      <th>4</th>\n",
       "      <td>60</td>\n",
       "      <td>Male</td>\n",
       "      <td>Yes</td>\n",
       "      <td>Yes</td>\n",
       "      <td>Yes</td>\n",
       "      <td>Yes</td>\n",
       "      <td>Yes</td>\n",
       "      <td>No</td>\n",
       "      <td>Yes</td>\n",
       "      <td>Yes</td>\n",
       "      <td>Yes</td>\n",
       "      <td>Yes</td>\n",
       "      <td>Yes</td>\n",
       "      <td>Yes</td>\n",
       "      <td>Yes</td>\n",
       "      <td>Yes</td>\n",
       "      <td>Positive</td>\n",
       "    </tr>\n",
       "  </tbody>\n",
       "</table>\n",
       "</div>"
      ],
      "text/plain": [
       "   Age Gender Polyuria Polydipsia sudden weight loss weakness Polyphagia  \\\n",
       "0   40   Male       No        Yes                 No      Yes         No   \n",
       "1   58   Male       No         No                 No      Yes         No   \n",
       "2   41   Male      Yes         No                 No      Yes        Yes   \n",
       "3   45   Male       No         No                Yes      Yes        Yes   \n",
       "4   60   Male      Yes        Yes                Yes      Yes        Yes   \n",
       "\n",
       "  Genital thrush visual blurring Itching Irritability delayed healing  \\\n",
       "0             No              No     Yes           No             Yes   \n",
       "1             No             Yes      No           No              No   \n",
       "2             No              No     Yes           No             Yes   \n",
       "3            Yes              No     Yes           No             Yes   \n",
       "4             No             Yes     Yes          Yes             Yes   \n",
       "\n",
       "  partial paresis muscle stiffness Alopecia Obesity     class  \n",
       "0              No              Yes      Yes     Yes  Positive  \n",
       "1             Yes               No      Yes      No  Positive  \n",
       "2              No              Yes      Yes      No  Positive  \n",
       "3              No               No       No      No  Positive  \n",
       "4             Yes              Yes      Yes     Yes  Positive  "
      ]
     },
     "execution_count": 3,
     "metadata": {},
     "output_type": "execute_result"
    }
   ],
   "source": [
    "diabet.head()"
   ]
  },
  {
   "cell_type": "code",
   "execution_count": 4,
   "id": "513c4be0",
   "metadata": {},
   "outputs": [
    {
     "data": {
      "text/plain": [
       "Age                   0\n",
       "Gender                0\n",
       "Polyuria              0\n",
       "Polydipsia            0\n",
       "sudden weight loss    0\n",
       "weakness              0\n",
       "Polyphagia            0\n",
       "Genital thrush        0\n",
       "visual blurring       0\n",
       "Itching               0\n",
       "Irritability          0\n",
       "delayed healing       0\n",
       "partial paresis       0\n",
       "muscle stiffness      0\n",
       "Alopecia              0\n",
       "Obesity               0\n",
       "class                 0\n",
       "dtype: int64"
      ]
     },
     "execution_count": 4,
     "metadata": {},
     "output_type": "execute_result"
    }
   ],
   "source": [
    "diabet.isna().sum()"
   ]
  },
  {
   "cell_type": "code",
   "execution_count": 5,
   "id": "04ceafbb",
   "metadata": {},
   "outputs": [
    {
     "name": "stdout",
     "output_type": "stream",
     "text": [
      "<class 'pandas.core.frame.DataFrame'>\n",
      "RangeIndex: 520 entries, 0 to 519\n",
      "Data columns (total 17 columns):\n",
      " #   Column              Non-Null Count  Dtype \n",
      "---  ------              --------------  ----- \n",
      " 0   Age                 520 non-null    int64 \n",
      " 1   Gender              520 non-null    object\n",
      " 2   Polyuria            520 non-null    object\n",
      " 3   Polydipsia          520 non-null    object\n",
      " 4   sudden weight loss  520 non-null    object\n",
      " 5   weakness            520 non-null    object\n",
      " 6   Polyphagia          520 non-null    object\n",
      " 7   Genital thrush      520 non-null    object\n",
      " 8   visual blurring     520 non-null    object\n",
      " 9   Itching             520 non-null    object\n",
      " 10  Irritability        520 non-null    object\n",
      " 11  delayed healing     520 non-null    object\n",
      " 12  partial paresis     520 non-null    object\n",
      " 13  muscle stiffness    520 non-null    object\n",
      " 14  Alopecia            520 non-null    object\n",
      " 15  Obesity             520 non-null    object\n",
      " 16  class               520 non-null    object\n",
      "dtypes: int64(1), object(16)\n",
      "memory usage: 69.2+ KB\n"
     ]
    }
   ],
   "source": [
    "diabet.info()"
   ]
  },
  {
   "cell_type": "code",
   "execution_count": 6,
   "id": "c0d1e641",
   "metadata": {},
   "outputs": [],
   "source": [
    "diabet = diabet.replace({'Yes':1 , 'No':0 , 'Female':0 , 'Male':1 , 'Positive': 1 , 'Negative':0 })"
   ]
  },
  {
   "cell_type": "code",
   "execution_count": 7,
   "id": "fd130cbe",
   "metadata": {},
   "outputs": [
    {
     "data": {
      "text/html": [
       "<div>\n",
       "<style scoped>\n",
       "    .dataframe tbody tr th:only-of-type {\n",
       "        vertical-align: middle;\n",
       "    }\n",
       "\n",
       "    .dataframe tbody tr th {\n",
       "        vertical-align: top;\n",
       "    }\n",
       "\n",
       "    .dataframe thead th {\n",
       "        text-align: right;\n",
       "    }\n",
       "</style>\n",
       "<table border=\"1\" class=\"dataframe\">\n",
       "  <thead>\n",
       "    <tr style=\"text-align: right;\">\n",
       "      <th></th>\n",
       "      <th>Age</th>\n",
       "      <th>Gender</th>\n",
       "      <th>Polyuria</th>\n",
       "      <th>Polydipsia</th>\n",
       "      <th>sudden weight loss</th>\n",
       "      <th>weakness</th>\n",
       "      <th>Polyphagia</th>\n",
       "      <th>Genital thrush</th>\n",
       "      <th>visual blurring</th>\n",
       "      <th>Itching</th>\n",
       "      <th>Irritability</th>\n",
       "      <th>delayed healing</th>\n",
       "      <th>partial paresis</th>\n",
       "      <th>muscle stiffness</th>\n",
       "      <th>Alopecia</th>\n",
       "      <th>Obesity</th>\n",
       "      <th>class</th>\n",
       "    </tr>\n",
       "  </thead>\n",
       "  <tbody>\n",
       "    <tr>\n",
       "      <th>0</th>\n",
       "      <td>40</td>\n",
       "      <td>1</td>\n",
       "      <td>0</td>\n",
       "      <td>1</td>\n",
       "      <td>0</td>\n",
       "      <td>1</td>\n",
       "      <td>0</td>\n",
       "      <td>0</td>\n",
       "      <td>0</td>\n",
       "      <td>1</td>\n",
       "      <td>0</td>\n",
       "      <td>1</td>\n",
       "      <td>0</td>\n",
       "      <td>1</td>\n",
       "      <td>1</td>\n",
       "      <td>1</td>\n",
       "      <td>1</td>\n",
       "    </tr>\n",
       "    <tr>\n",
       "      <th>1</th>\n",
       "      <td>58</td>\n",
       "      <td>1</td>\n",
       "      <td>0</td>\n",
       "      <td>0</td>\n",
       "      <td>0</td>\n",
       "      <td>1</td>\n",
       "      <td>0</td>\n",
       "      <td>0</td>\n",
       "      <td>1</td>\n",
       "      <td>0</td>\n",
       "      <td>0</td>\n",
       "      <td>0</td>\n",
       "      <td>1</td>\n",
       "      <td>0</td>\n",
       "      <td>1</td>\n",
       "      <td>0</td>\n",
       "      <td>1</td>\n",
       "    </tr>\n",
       "    <tr>\n",
       "      <th>2</th>\n",
       "      <td>41</td>\n",
       "      <td>1</td>\n",
       "      <td>1</td>\n",
       "      <td>0</td>\n",
       "      <td>0</td>\n",
       "      <td>1</td>\n",
       "      <td>1</td>\n",
       "      <td>0</td>\n",
       "      <td>0</td>\n",
       "      <td>1</td>\n",
       "      <td>0</td>\n",
       "      <td>1</td>\n",
       "      <td>0</td>\n",
       "      <td>1</td>\n",
       "      <td>1</td>\n",
       "      <td>0</td>\n",
       "      <td>1</td>\n",
       "    </tr>\n",
       "    <tr>\n",
       "      <th>3</th>\n",
       "      <td>45</td>\n",
       "      <td>1</td>\n",
       "      <td>0</td>\n",
       "      <td>0</td>\n",
       "      <td>1</td>\n",
       "      <td>1</td>\n",
       "      <td>1</td>\n",
       "      <td>1</td>\n",
       "      <td>0</td>\n",
       "      <td>1</td>\n",
       "      <td>0</td>\n",
       "      <td>1</td>\n",
       "      <td>0</td>\n",
       "      <td>0</td>\n",
       "      <td>0</td>\n",
       "      <td>0</td>\n",
       "      <td>1</td>\n",
       "    </tr>\n",
       "    <tr>\n",
       "      <th>4</th>\n",
       "      <td>60</td>\n",
       "      <td>1</td>\n",
       "      <td>1</td>\n",
       "      <td>1</td>\n",
       "      <td>1</td>\n",
       "      <td>1</td>\n",
       "      <td>1</td>\n",
       "      <td>0</td>\n",
       "      <td>1</td>\n",
       "      <td>1</td>\n",
       "      <td>1</td>\n",
       "      <td>1</td>\n",
       "      <td>1</td>\n",
       "      <td>1</td>\n",
       "      <td>1</td>\n",
       "      <td>1</td>\n",
       "      <td>1</td>\n",
       "    </tr>\n",
       "    <tr>\n",
       "      <th>...</th>\n",
       "      <td>...</td>\n",
       "      <td>...</td>\n",
       "      <td>...</td>\n",
       "      <td>...</td>\n",
       "      <td>...</td>\n",
       "      <td>...</td>\n",
       "      <td>...</td>\n",
       "      <td>...</td>\n",
       "      <td>...</td>\n",
       "      <td>...</td>\n",
       "      <td>...</td>\n",
       "      <td>...</td>\n",
       "      <td>...</td>\n",
       "      <td>...</td>\n",
       "      <td>...</td>\n",
       "      <td>...</td>\n",
       "      <td>...</td>\n",
       "    </tr>\n",
       "    <tr>\n",
       "      <th>515</th>\n",
       "      <td>39</td>\n",
       "      <td>0</td>\n",
       "      <td>1</td>\n",
       "      <td>1</td>\n",
       "      <td>1</td>\n",
       "      <td>0</td>\n",
       "      <td>1</td>\n",
       "      <td>0</td>\n",
       "      <td>0</td>\n",
       "      <td>1</td>\n",
       "      <td>0</td>\n",
       "      <td>1</td>\n",
       "      <td>1</td>\n",
       "      <td>0</td>\n",
       "      <td>0</td>\n",
       "      <td>0</td>\n",
       "      <td>1</td>\n",
       "    </tr>\n",
       "    <tr>\n",
       "      <th>516</th>\n",
       "      <td>48</td>\n",
       "      <td>0</td>\n",
       "      <td>1</td>\n",
       "      <td>1</td>\n",
       "      <td>1</td>\n",
       "      <td>1</td>\n",
       "      <td>1</td>\n",
       "      <td>0</td>\n",
       "      <td>0</td>\n",
       "      <td>1</td>\n",
       "      <td>1</td>\n",
       "      <td>1</td>\n",
       "      <td>1</td>\n",
       "      <td>0</td>\n",
       "      <td>0</td>\n",
       "      <td>0</td>\n",
       "      <td>1</td>\n",
       "    </tr>\n",
       "    <tr>\n",
       "      <th>517</th>\n",
       "      <td>58</td>\n",
       "      <td>0</td>\n",
       "      <td>1</td>\n",
       "      <td>1</td>\n",
       "      <td>1</td>\n",
       "      <td>1</td>\n",
       "      <td>1</td>\n",
       "      <td>0</td>\n",
       "      <td>1</td>\n",
       "      <td>0</td>\n",
       "      <td>0</td>\n",
       "      <td>0</td>\n",
       "      <td>1</td>\n",
       "      <td>1</td>\n",
       "      <td>0</td>\n",
       "      <td>1</td>\n",
       "      <td>1</td>\n",
       "    </tr>\n",
       "    <tr>\n",
       "      <th>518</th>\n",
       "      <td>32</td>\n",
       "      <td>0</td>\n",
       "      <td>0</td>\n",
       "      <td>0</td>\n",
       "      <td>0</td>\n",
       "      <td>1</td>\n",
       "      <td>0</td>\n",
       "      <td>0</td>\n",
       "      <td>1</td>\n",
       "      <td>1</td>\n",
       "      <td>0</td>\n",
       "      <td>1</td>\n",
       "      <td>0</td>\n",
       "      <td>0</td>\n",
       "      <td>1</td>\n",
       "      <td>0</td>\n",
       "      <td>0</td>\n",
       "    </tr>\n",
       "    <tr>\n",
       "      <th>519</th>\n",
       "      <td>42</td>\n",
       "      <td>1</td>\n",
       "      <td>0</td>\n",
       "      <td>0</td>\n",
       "      <td>0</td>\n",
       "      <td>0</td>\n",
       "      <td>0</td>\n",
       "      <td>0</td>\n",
       "      <td>0</td>\n",
       "      <td>0</td>\n",
       "      <td>0</td>\n",
       "      <td>0</td>\n",
       "      <td>0</td>\n",
       "      <td>0</td>\n",
       "      <td>0</td>\n",
       "      <td>0</td>\n",
       "      <td>0</td>\n",
       "    </tr>\n",
       "  </tbody>\n",
       "</table>\n",
       "<p>520 rows × 17 columns</p>\n",
       "</div>"
      ],
      "text/plain": [
       "     Age  Gender  Polyuria  Polydipsia  sudden weight loss  weakness  \\\n",
       "0     40       1         0           1                   0         1   \n",
       "1     58       1         0           0                   0         1   \n",
       "2     41       1         1           0                   0         1   \n",
       "3     45       1         0           0                   1         1   \n",
       "4     60       1         1           1                   1         1   \n",
       "..   ...     ...       ...         ...                 ...       ...   \n",
       "515   39       0         1           1                   1         0   \n",
       "516   48       0         1           1                   1         1   \n",
       "517   58       0         1           1                   1         1   \n",
       "518   32       0         0           0                   0         1   \n",
       "519   42       1         0           0                   0         0   \n",
       "\n",
       "     Polyphagia  Genital thrush  visual blurring  Itching  Irritability  \\\n",
       "0             0               0                0        1             0   \n",
       "1             0               0                1        0             0   \n",
       "2             1               0                0        1             0   \n",
       "3             1               1                0        1             0   \n",
       "4             1               0                1        1             1   \n",
       "..          ...             ...              ...      ...           ...   \n",
       "515           1               0                0        1             0   \n",
       "516           1               0                0        1             1   \n",
       "517           1               0                1        0             0   \n",
       "518           0               0                1        1             0   \n",
       "519           0               0                0        0             0   \n",
       "\n",
       "     delayed healing  partial paresis  muscle stiffness  Alopecia  Obesity  \\\n",
       "0                  1                0                 1         1        1   \n",
       "1                  0                1                 0         1        0   \n",
       "2                  1                0                 1         1        0   \n",
       "3                  1                0                 0         0        0   \n",
       "4                  1                1                 1         1        1   \n",
       "..               ...              ...               ...       ...      ...   \n",
       "515                1                1                 0         0        0   \n",
       "516                1                1                 0         0        0   \n",
       "517                0                1                 1         0        1   \n",
       "518                1                0                 0         1        0   \n",
       "519                0                0                 0         0        0   \n",
       "\n",
       "     class  \n",
       "0        1  \n",
       "1        1  \n",
       "2        1  \n",
       "3        1  \n",
       "4        1  \n",
       "..     ...  \n",
       "515      1  \n",
       "516      1  \n",
       "517      1  \n",
       "518      0  \n",
       "519      0  \n",
       "\n",
       "[520 rows x 17 columns]"
      ]
     },
     "execution_count": 7,
     "metadata": {},
     "output_type": "execute_result"
    }
   ],
   "source": [
    "diabet"
   ]
  },
  {
   "cell_type": "code",
   "execution_count": 8,
   "id": "b4284e2f",
   "metadata": {},
   "outputs": [],
   "source": [
    "diabet.columns = diabet.columns.str.lower()"
   ]
  },
  {
   "cell_type": "code",
   "execution_count": 9,
   "id": "a06a28f5",
   "metadata": {},
   "outputs": [
    {
     "data": {
      "text/html": [
       "<div>\n",
       "<style scoped>\n",
       "    .dataframe tbody tr th:only-of-type {\n",
       "        vertical-align: middle;\n",
       "    }\n",
       "\n",
       "    .dataframe tbody tr th {\n",
       "        vertical-align: top;\n",
       "    }\n",
       "\n",
       "    .dataframe thead th {\n",
       "        text-align: right;\n",
       "    }\n",
       "</style>\n",
       "<table border=\"1\" class=\"dataframe\">\n",
       "  <thead>\n",
       "    <tr style=\"text-align: right;\">\n",
       "      <th></th>\n",
       "      <th>age</th>\n",
       "      <th>gender</th>\n",
       "      <th>polyuria</th>\n",
       "      <th>polydipsia</th>\n",
       "      <th>sudden weight loss</th>\n",
       "      <th>weakness</th>\n",
       "      <th>polyphagia</th>\n",
       "      <th>genital thrush</th>\n",
       "      <th>visual blurring</th>\n",
       "      <th>itching</th>\n",
       "      <th>irritability</th>\n",
       "      <th>delayed healing</th>\n",
       "      <th>partial paresis</th>\n",
       "      <th>muscle stiffness</th>\n",
       "      <th>alopecia</th>\n",
       "      <th>obesity</th>\n",
       "      <th>class</th>\n",
       "    </tr>\n",
       "  </thead>\n",
       "  <tbody>\n",
       "    <tr>\n",
       "      <th>0</th>\n",
       "      <td>40</td>\n",
       "      <td>1</td>\n",
       "      <td>0</td>\n",
       "      <td>1</td>\n",
       "      <td>0</td>\n",
       "      <td>1</td>\n",
       "      <td>0</td>\n",
       "      <td>0</td>\n",
       "      <td>0</td>\n",
       "      <td>1</td>\n",
       "      <td>0</td>\n",
       "      <td>1</td>\n",
       "      <td>0</td>\n",
       "      <td>1</td>\n",
       "      <td>1</td>\n",
       "      <td>1</td>\n",
       "      <td>1</td>\n",
       "    </tr>\n",
       "    <tr>\n",
       "      <th>1</th>\n",
       "      <td>58</td>\n",
       "      <td>1</td>\n",
       "      <td>0</td>\n",
       "      <td>0</td>\n",
       "      <td>0</td>\n",
       "      <td>1</td>\n",
       "      <td>0</td>\n",
       "      <td>0</td>\n",
       "      <td>1</td>\n",
       "      <td>0</td>\n",
       "      <td>0</td>\n",
       "      <td>0</td>\n",
       "      <td>1</td>\n",
       "      <td>0</td>\n",
       "      <td>1</td>\n",
       "      <td>0</td>\n",
       "      <td>1</td>\n",
       "    </tr>\n",
       "    <tr>\n",
       "      <th>2</th>\n",
       "      <td>41</td>\n",
       "      <td>1</td>\n",
       "      <td>1</td>\n",
       "      <td>0</td>\n",
       "      <td>0</td>\n",
       "      <td>1</td>\n",
       "      <td>1</td>\n",
       "      <td>0</td>\n",
       "      <td>0</td>\n",
       "      <td>1</td>\n",
       "      <td>0</td>\n",
       "      <td>1</td>\n",
       "      <td>0</td>\n",
       "      <td>1</td>\n",
       "      <td>1</td>\n",
       "      <td>0</td>\n",
       "      <td>1</td>\n",
       "    </tr>\n",
       "    <tr>\n",
       "      <th>3</th>\n",
       "      <td>45</td>\n",
       "      <td>1</td>\n",
       "      <td>0</td>\n",
       "      <td>0</td>\n",
       "      <td>1</td>\n",
       "      <td>1</td>\n",
       "      <td>1</td>\n",
       "      <td>1</td>\n",
       "      <td>0</td>\n",
       "      <td>1</td>\n",
       "      <td>0</td>\n",
       "      <td>1</td>\n",
       "      <td>0</td>\n",
       "      <td>0</td>\n",
       "      <td>0</td>\n",
       "      <td>0</td>\n",
       "      <td>1</td>\n",
       "    </tr>\n",
       "    <tr>\n",
       "      <th>4</th>\n",
       "      <td>60</td>\n",
       "      <td>1</td>\n",
       "      <td>1</td>\n",
       "      <td>1</td>\n",
       "      <td>1</td>\n",
       "      <td>1</td>\n",
       "      <td>1</td>\n",
       "      <td>0</td>\n",
       "      <td>1</td>\n",
       "      <td>1</td>\n",
       "      <td>1</td>\n",
       "      <td>1</td>\n",
       "      <td>1</td>\n",
       "      <td>1</td>\n",
       "      <td>1</td>\n",
       "      <td>1</td>\n",
       "      <td>1</td>\n",
       "    </tr>\n",
       "    <tr>\n",
       "      <th>...</th>\n",
       "      <td>...</td>\n",
       "      <td>...</td>\n",
       "      <td>...</td>\n",
       "      <td>...</td>\n",
       "      <td>...</td>\n",
       "      <td>...</td>\n",
       "      <td>...</td>\n",
       "      <td>...</td>\n",
       "      <td>...</td>\n",
       "      <td>...</td>\n",
       "      <td>...</td>\n",
       "      <td>...</td>\n",
       "      <td>...</td>\n",
       "      <td>...</td>\n",
       "      <td>...</td>\n",
       "      <td>...</td>\n",
       "      <td>...</td>\n",
       "    </tr>\n",
       "    <tr>\n",
       "      <th>515</th>\n",
       "      <td>39</td>\n",
       "      <td>0</td>\n",
       "      <td>1</td>\n",
       "      <td>1</td>\n",
       "      <td>1</td>\n",
       "      <td>0</td>\n",
       "      <td>1</td>\n",
       "      <td>0</td>\n",
       "      <td>0</td>\n",
       "      <td>1</td>\n",
       "      <td>0</td>\n",
       "      <td>1</td>\n",
       "      <td>1</td>\n",
       "      <td>0</td>\n",
       "      <td>0</td>\n",
       "      <td>0</td>\n",
       "      <td>1</td>\n",
       "    </tr>\n",
       "    <tr>\n",
       "      <th>516</th>\n",
       "      <td>48</td>\n",
       "      <td>0</td>\n",
       "      <td>1</td>\n",
       "      <td>1</td>\n",
       "      <td>1</td>\n",
       "      <td>1</td>\n",
       "      <td>1</td>\n",
       "      <td>0</td>\n",
       "      <td>0</td>\n",
       "      <td>1</td>\n",
       "      <td>1</td>\n",
       "      <td>1</td>\n",
       "      <td>1</td>\n",
       "      <td>0</td>\n",
       "      <td>0</td>\n",
       "      <td>0</td>\n",
       "      <td>1</td>\n",
       "    </tr>\n",
       "    <tr>\n",
       "      <th>517</th>\n",
       "      <td>58</td>\n",
       "      <td>0</td>\n",
       "      <td>1</td>\n",
       "      <td>1</td>\n",
       "      <td>1</td>\n",
       "      <td>1</td>\n",
       "      <td>1</td>\n",
       "      <td>0</td>\n",
       "      <td>1</td>\n",
       "      <td>0</td>\n",
       "      <td>0</td>\n",
       "      <td>0</td>\n",
       "      <td>1</td>\n",
       "      <td>1</td>\n",
       "      <td>0</td>\n",
       "      <td>1</td>\n",
       "      <td>1</td>\n",
       "    </tr>\n",
       "    <tr>\n",
       "      <th>518</th>\n",
       "      <td>32</td>\n",
       "      <td>0</td>\n",
       "      <td>0</td>\n",
       "      <td>0</td>\n",
       "      <td>0</td>\n",
       "      <td>1</td>\n",
       "      <td>0</td>\n",
       "      <td>0</td>\n",
       "      <td>1</td>\n",
       "      <td>1</td>\n",
       "      <td>0</td>\n",
       "      <td>1</td>\n",
       "      <td>0</td>\n",
       "      <td>0</td>\n",
       "      <td>1</td>\n",
       "      <td>0</td>\n",
       "      <td>0</td>\n",
       "    </tr>\n",
       "    <tr>\n",
       "      <th>519</th>\n",
       "      <td>42</td>\n",
       "      <td>1</td>\n",
       "      <td>0</td>\n",
       "      <td>0</td>\n",
       "      <td>0</td>\n",
       "      <td>0</td>\n",
       "      <td>0</td>\n",
       "      <td>0</td>\n",
       "      <td>0</td>\n",
       "      <td>0</td>\n",
       "      <td>0</td>\n",
       "      <td>0</td>\n",
       "      <td>0</td>\n",
       "      <td>0</td>\n",
       "      <td>0</td>\n",
       "      <td>0</td>\n",
       "      <td>0</td>\n",
       "    </tr>\n",
       "  </tbody>\n",
       "</table>\n",
       "<p>520 rows × 17 columns</p>\n",
       "</div>"
      ],
      "text/plain": [
       "     age  gender  polyuria  polydipsia  sudden weight loss  weakness  \\\n",
       "0     40       1         0           1                   0         1   \n",
       "1     58       1         0           0                   0         1   \n",
       "2     41       1         1           0                   0         1   \n",
       "3     45       1         0           0                   1         1   \n",
       "4     60       1         1           1                   1         1   \n",
       "..   ...     ...       ...         ...                 ...       ...   \n",
       "515   39       0         1           1                   1         0   \n",
       "516   48       0         1           1                   1         1   \n",
       "517   58       0         1           1                   1         1   \n",
       "518   32       0         0           0                   0         1   \n",
       "519   42       1         0           0                   0         0   \n",
       "\n",
       "     polyphagia  genital thrush  visual blurring  itching  irritability  \\\n",
       "0             0               0                0        1             0   \n",
       "1             0               0                1        0             0   \n",
       "2             1               0                0        1             0   \n",
       "3             1               1                0        1             0   \n",
       "4             1               0                1        1             1   \n",
       "..          ...             ...              ...      ...           ...   \n",
       "515           1               0                0        1             0   \n",
       "516           1               0                0        1             1   \n",
       "517           1               0                1        0             0   \n",
       "518           0               0                1        1             0   \n",
       "519           0               0                0        0             0   \n",
       "\n",
       "     delayed healing  partial paresis  muscle stiffness  alopecia  obesity  \\\n",
       "0                  1                0                 1         1        1   \n",
       "1                  0                1                 0         1        0   \n",
       "2                  1                0                 1         1        0   \n",
       "3                  1                0                 0         0        0   \n",
       "4                  1                1                 1         1        1   \n",
       "..               ...              ...               ...       ...      ...   \n",
       "515                1                1                 0         0        0   \n",
       "516                1                1                 0         0        0   \n",
       "517                0                1                 1         0        1   \n",
       "518                1                0                 0         1        0   \n",
       "519                0                0                 0         0        0   \n",
       "\n",
       "     class  \n",
       "0        1  \n",
       "1        1  \n",
       "2        1  \n",
       "3        1  \n",
       "4        1  \n",
       "..     ...  \n",
       "515      1  \n",
       "516      1  \n",
       "517      1  \n",
       "518      0  \n",
       "519      0  \n",
       "\n",
       "[520 rows x 17 columns]"
      ]
     },
     "execution_count": 9,
     "metadata": {},
     "output_type": "execute_result"
    }
   ],
   "source": [
    "diabet"
   ]
  },
  {
   "cell_type": "code",
   "execution_count": 10,
   "id": "8b3f11f9",
   "metadata": {},
   "outputs": [],
   "source": [
    "columns = diabet.columns[1:]"
   ]
  },
  {
   "cell_type": "code",
   "execution_count": 11,
   "id": "f6aeaa4b",
   "metadata": {},
   "outputs": [
    {
     "name": "stderr",
     "output_type": "stream",
     "text": [
      "C:\\Users\\User\\anaconda3\\lib\\site-packages\\seaborn\\_decorators.py:36: FutureWarning: Pass the following variable as a keyword arg: x. From version 0.12, the only valid positional argument will be `data`, and passing other arguments without an explicit keyword will result in an error or misinterpretation.\n",
      "  warnings.warn(\n"
     ]
    },
    {
     "data": {
      "image/png": "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\n",
      "text/plain": [
       "<Figure size 432x288 with 1 Axes>"
      ]
     },
     "metadata": {
      "needs_background": "light"
     },
     "output_type": "display_data"
    },
    {
     "name": "stderr",
     "output_type": "stream",
     "text": [
      "C:\\Users\\User\\anaconda3\\lib\\site-packages\\seaborn\\_decorators.py:36: FutureWarning: Pass the following variable as a keyword arg: x. From version 0.12, the only valid positional argument will be `data`, and passing other arguments without an explicit keyword will result in an error or misinterpretation.\n",
      "  warnings.warn(\n"
     ]
    },
    {
     "data": {
      "image/png": "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\n",
      "text/plain": [
       "<Figure size 432x288 with 1 Axes>"
      ]
     },
     "metadata": {
      "needs_background": "light"
     },
     "output_type": "display_data"
    },
    {
     "name": "stderr",
     "output_type": "stream",
     "text": [
      "C:\\Users\\User\\anaconda3\\lib\\site-packages\\seaborn\\_decorators.py:36: FutureWarning: Pass the following variable as a keyword arg: x. From version 0.12, the only valid positional argument will be `data`, and passing other arguments without an explicit keyword will result in an error or misinterpretation.\n",
      "  warnings.warn(\n"
     ]
    },
    {
     "data": {
      "image/png": "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\n",
      "text/plain": [
       "<Figure size 432x288 with 1 Axes>"
      ]
     },
     "metadata": {
      "needs_background": "light"
     },
     "output_type": "display_data"
    },
    {
     "name": "stderr",
     "output_type": "stream",
     "text": [
      "C:\\Users\\User\\anaconda3\\lib\\site-packages\\seaborn\\_decorators.py:36: FutureWarning: Pass the following variable as a keyword arg: x. From version 0.12, the only valid positional argument will be `data`, and passing other arguments without an explicit keyword will result in an error or misinterpretation.\n",
      "  warnings.warn(\n"
     ]
    },
    {
     "data": {
      "image/png": "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\n",
      "text/plain": [
       "<Figure size 432x288 with 1 Axes>"
      ]
     },
     "metadata": {
      "needs_background": "light"
     },
     "output_type": "display_data"
    },
    {
     "name": "stderr",
     "output_type": "stream",
     "text": [
      "C:\\Users\\User\\anaconda3\\lib\\site-packages\\seaborn\\_decorators.py:36: FutureWarning: Pass the following variable as a keyword arg: x. From version 0.12, the only valid positional argument will be `data`, and passing other arguments without an explicit keyword will result in an error or misinterpretation.\n",
      "  warnings.warn(\n"
     ]
    },
    {
     "data": {
      "image/png": "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\n",
      "text/plain": [
       "<Figure size 432x288 with 1 Axes>"
      ]
     },
     "metadata": {
      "needs_background": "light"
     },
     "output_type": "display_data"
    },
    {
     "name": "stderr",
     "output_type": "stream",
     "text": [
      "C:\\Users\\User\\anaconda3\\lib\\site-packages\\seaborn\\_decorators.py:36: FutureWarning: Pass the following variable as a keyword arg: x. From version 0.12, the only valid positional argument will be `data`, and passing other arguments without an explicit keyword will result in an error or misinterpretation.\n",
      "  warnings.warn(\n"
     ]
    },
    {
     "data": {
      "image/png": "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\n",
      "text/plain": [
       "<Figure size 432x288 with 1 Axes>"
      ]
     },
     "metadata": {
      "needs_background": "light"
     },
     "output_type": "display_data"
    },
    {
     "name": "stderr",
     "output_type": "stream",
     "text": [
      "C:\\Users\\User\\anaconda3\\lib\\site-packages\\seaborn\\_decorators.py:36: FutureWarning: Pass the following variable as a keyword arg: x. From version 0.12, the only valid positional argument will be `data`, and passing other arguments without an explicit keyword will result in an error or misinterpretation.\n",
      "  warnings.warn(\n"
     ]
    },
    {
     "data": {
      "image/png": "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\n",
      "text/plain": [
       "<Figure size 432x288 with 1 Axes>"
      ]
     },
     "metadata": {
      "needs_background": "light"
     },
     "output_type": "display_data"
    },
    {
     "name": "stderr",
     "output_type": "stream",
     "text": [
      "C:\\Users\\User\\anaconda3\\lib\\site-packages\\seaborn\\_decorators.py:36: FutureWarning: Pass the following variable as a keyword arg: x. From version 0.12, the only valid positional argument will be `data`, and passing other arguments without an explicit keyword will result in an error or misinterpretation.\n",
      "  warnings.warn(\n"
     ]
    },
    {
     "data": {
      "image/png": "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\n",
      "text/plain": [
       "<Figure size 432x288 with 1 Axes>"
      ]
     },
     "metadata": {
      "needs_background": "light"
     },
     "output_type": "display_data"
    },
    {
     "name": "stderr",
     "output_type": "stream",
     "text": [
      "C:\\Users\\User\\anaconda3\\lib\\site-packages\\seaborn\\_decorators.py:36: FutureWarning: Pass the following variable as a keyword arg: x. From version 0.12, the only valid positional argument will be `data`, and passing other arguments without an explicit keyword will result in an error or misinterpretation.\n",
      "  warnings.warn(\n"
     ]
    },
    {
     "data": {
      "image/png": "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\n",
      "text/plain": [
       "<Figure size 432x288 with 1 Axes>"
      ]
     },
     "metadata": {
      "needs_background": "light"
     },
     "output_type": "display_data"
    },
    {
     "name": "stderr",
     "output_type": "stream",
     "text": [
      "C:\\Users\\User\\anaconda3\\lib\\site-packages\\seaborn\\_decorators.py:36: FutureWarning: Pass the following variable as a keyword arg: x. From version 0.12, the only valid positional argument will be `data`, and passing other arguments without an explicit keyword will result in an error or misinterpretation.\n",
      "  warnings.warn(\n"
     ]
    },
    {
     "data": {
      "image/png": "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\n",
      "text/plain": [
       "<Figure size 432x288 with 1 Axes>"
      ]
     },
     "metadata": {
      "needs_background": "light"
     },
     "output_type": "display_data"
    },
    {
     "name": "stderr",
     "output_type": "stream",
     "text": [
      "C:\\Users\\User\\anaconda3\\lib\\site-packages\\seaborn\\_decorators.py:36: FutureWarning: Pass the following variable as a keyword arg: x. From version 0.12, the only valid positional argument will be `data`, and passing other arguments without an explicit keyword will result in an error or misinterpretation.\n",
      "  warnings.warn(\n"
     ]
    },
    {
     "data": {
      "image/png": "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\n",
      "text/plain": [
       "<Figure size 432x288 with 1 Axes>"
      ]
     },
     "metadata": {
      "needs_background": "light"
     },
     "output_type": "display_data"
    },
    {
     "name": "stderr",
     "output_type": "stream",
     "text": [
      "C:\\Users\\User\\anaconda3\\lib\\site-packages\\seaborn\\_decorators.py:36: FutureWarning: Pass the following variable as a keyword arg: x. From version 0.12, the only valid positional argument will be `data`, and passing other arguments without an explicit keyword will result in an error or misinterpretation.\n",
      "  warnings.warn(\n"
     ]
    },
    {
     "data": {
      "image/png": "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\n",
      "text/plain": [
       "<Figure size 432x288 with 1 Axes>"
      ]
     },
     "metadata": {
      "needs_background": "light"
     },
     "output_type": "display_data"
    },
    {
     "name": "stderr",
     "output_type": "stream",
     "text": [
      "C:\\Users\\User\\anaconda3\\lib\\site-packages\\seaborn\\_decorators.py:36: FutureWarning: Pass the following variable as a keyword arg: x. From version 0.12, the only valid positional argument will be `data`, and passing other arguments without an explicit keyword will result in an error or misinterpretation.\n",
      "  warnings.warn(\n"
     ]
    },
    {
     "data": {
      "image/png": "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\n",
      "text/plain": [
       "<Figure size 432x288 with 1 Axes>"
      ]
     },
     "metadata": {
      "needs_background": "light"
     },
     "output_type": "display_data"
    },
    {
     "name": "stderr",
     "output_type": "stream",
     "text": [
      "C:\\Users\\User\\anaconda3\\lib\\site-packages\\seaborn\\_decorators.py:36: FutureWarning: Pass the following variable as a keyword arg: x. From version 0.12, the only valid positional argument will be `data`, and passing other arguments without an explicit keyword will result in an error or misinterpretation.\n",
      "  warnings.warn(\n"
     ]
    },
    {
     "data": {
      "image/png": "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\n",
      "text/plain": [
       "<Figure size 432x288 with 1 Axes>"
      ]
     },
     "metadata": {
      "needs_background": "light"
     },
     "output_type": "display_data"
    },
    {
     "name": "stderr",
     "output_type": "stream",
     "text": [
      "C:\\Users\\User\\anaconda3\\lib\\site-packages\\seaborn\\_decorators.py:36: FutureWarning: Pass the following variable as a keyword arg: x. From version 0.12, the only valid positional argument will be `data`, and passing other arguments without an explicit keyword will result in an error or misinterpretation.\n",
      "  warnings.warn(\n"
     ]
    },
    {
     "data": {
      "image/png": "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\n",
      "text/plain": [
       "<Figure size 432x288 with 1 Axes>"
      ]
     },
     "metadata": {
      "needs_background": "light"
     },
     "output_type": "display_data"
    },
    {
     "name": "stderr",
     "output_type": "stream",
     "text": [
      "C:\\Users\\User\\anaconda3\\lib\\site-packages\\seaborn\\_decorators.py:36: FutureWarning: Pass the following variable as a keyword arg: x. From version 0.12, the only valid positional argument will be `data`, and passing other arguments without an explicit keyword will result in an error or misinterpretation.\n",
      "  warnings.warn(\n"
     ]
    },
    {
     "data": {
      "image/png": "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\n",
      "text/plain": [
       "<Figure size 432x288 with 1 Axes>"
      ]
     },
     "metadata": {
      "needs_background": "light"
     },
     "output_type": "display_data"
    }
   ],
   "source": [
    "for column in columns:\n",
    "    sns.countplot(diabet[column])\n",
    "    plt.title(column)\n",
    "    sns.despine()\n",
    "    plt.show()"
   ]
  },
  {
   "cell_type": "markdown",
   "id": "d358caea",
   "metadata": {},
   "source": [
    "## is obasity relationship to diabet status?\n",
    "\n",
    "\n",
    "\n"
   ]
  },
  {
   "cell_type": "markdown",
   "id": "303c38ba",
   "metadata": {},
   "source": [
    "## is gender  relationship to diabet status ?"
   ]
  },
  {
   "cell_type": "code",
   "execution_count": 12,
   "id": "731d6103",
   "metadata": {},
   "outputs": [],
   "source": [
    "diabet_obasity = pd.crosstab(diabet['class'] , diabet['obesity'])"
   ]
  },
  {
   "cell_type": "code",
   "execution_count": 13,
   "id": "4461663c",
   "metadata": {},
   "outputs": [
    {
     "data": {
      "text/html": [
       "<div>\n",
       "<style scoped>\n",
       "    .dataframe tbody tr th:only-of-type {\n",
       "        vertical-align: middle;\n",
       "    }\n",
       "\n",
       "    .dataframe tbody tr th {\n",
       "        vertical-align: top;\n",
       "    }\n",
       "\n",
       "    .dataframe thead th {\n",
       "        text-align: right;\n",
       "    }\n",
       "</style>\n",
       "<table border=\"1\" class=\"dataframe\">\n",
       "  <thead>\n",
       "    <tr style=\"text-align: right;\">\n",
       "      <th>obesity</th>\n",
       "      <th>0</th>\n",
       "      <th>1</th>\n",
       "    </tr>\n",
       "    <tr>\n",
       "      <th>class</th>\n",
       "      <th></th>\n",
       "      <th></th>\n",
       "    </tr>\n",
       "  </thead>\n",
       "  <tbody>\n",
       "    <tr>\n",
       "      <th>0</th>\n",
       "      <td>173</td>\n",
       "      <td>27</td>\n",
       "    </tr>\n",
       "    <tr>\n",
       "      <th>1</th>\n",
       "      <td>259</td>\n",
       "      <td>61</td>\n",
       "    </tr>\n",
       "  </tbody>\n",
       "</table>\n",
       "</div>"
      ],
      "text/plain": [
       "obesity    0   1\n",
       "class           \n",
       "0        173  27\n",
       "1        259  61"
      ]
     },
     "execution_count": 13,
     "metadata": {},
     "output_type": "execute_result"
    }
   ],
   "source": [
    "diabet_obasity"
   ]
  },
  {
   "cell_type": "code",
   "execution_count": 14,
   "id": "7f124478",
   "metadata": {},
   "outputs": [
    {
     "source" : [
      "chi2_contingency(diabet_obasity"
     ] 
     "data": {
      "text/plain": [
       "(2.3274739583333344,\n",
       " 0.12710799319896815,\n",
       " 1,\n",
       " array([[166.15384615,  33.84615385],\n",
       "        [265.84615385,  54.15384615]]))"
      ]
     },
     "execution_count": 14,
     "metadata": {},
     "output_type": "execute_result"
    }
   ],
   
  },
  {
   "cell_type": "code",
   "execution_count": 15,
   "id": "d0fd1165",
   "metadata": {},
   "outputs": [],
   "source": [
    "diabet_gender = pd.crosstab(diabet['class'] , diabet['gender'])"
   ]
  },
  {
   "cell_type": "code",
   "execution_count": 16,
   "id": "6f446ac6",
   "metadata": {},
   "outputs": [
    {
     "data": {
      "text/html": [
       "<div>\n",
       "<style scoped>\n",
       "    .dataframe tbody tr th:only-of-type {\n",
       "        vertical-align: middle;\n",
       "    }\n",
       "\n",
       "    .dataframe tbody tr th {\n",
       "        vertical-align: top;\n",
       "    }\n",
       "\n",
       "    .dataframe thead th {\n",
       "        text-align: right;\n",
       "    }\n",
       "</style>\n",
       "<table border=\"1\" class=\"dataframe\">\n",
       "  <thead>\n",
       "    <tr style=\"text-align: right;\">\n",
       "      <th>gender</th>\n",
       "      <th>0</th>\n",
       "      <th>1</th>\n",
       "    </tr>\n",
       "    <tr>\n",
       "      <th>class</th>\n",
       "      <th></th>\n",
       "      <th></th>\n",
       "    </tr>\n",
       "  </thead>\n",
       "  <tbody>\n",
       "    <tr>\n",
       "      <th>0</th>\n",
       "      <td>19</td>\n",
       "      <td>181</td>\n",
       "    </tr>\n",
       "    <tr>\n",
       "      <th>1</th>\n",
       "      <td>173</td>\n",
       "      <td>147</td>\n",
       "    </tr>\n",
       "  </tbody>\n",
       "</table>\n",
       "</div>"
      ],
      "text/plain": [
       "gender    0    1\n",
       "class           \n",
       "0        19  181\n",
       "1       173  147"
      ]
     },
     "execution_count": 16,
     "metadata": {},
     "output_type": "execute_result"
    }
   ],
   "source": [
    "diabet_gender"
   ]
  },
  {
   "cell_type": "code",
   "execution_count": 17,
   "id": "8a4805c1",
   "metadata": {},
   "outputs": [
    {
     "data": {
      "text/plain": [
       "(103.03685927972558,\n",
       " 3.289703730553317e-24,\n",
       " 1,\n",
       " array([[ 73.84615385, 126.15384615],\n",
       "        [118.15384615, 201.84615385]]))"
      ]
     },
     "execution_count": 17,
     "metadata": {},
     "output_type": "execute_result"
    }
   ],
   "source": [
    
   ]
  },
  {
   "cell_type": "markdown",
   "id": "29db080e",
   "metadata": {},
   "source": [
    "## is age relationship to diabet ?"
   ]
  },
  {
   "cell_type": "code",
   "execution_count": 18,
   "id": "0b7b3b27",
   "metadata": {},
   "outputs": [
    {
     "name": "stderr",
     "output_type": "stream",
     "text": [
      "C:\\Users\\User\\anaconda3\\lib\\site-packages\\seaborn\\_decorators.py:36: FutureWarning: Pass the following variables as keyword args: x, y. From version 0.12, the only valid positional argument will be `data`, and passing other arguments without an explicit keyword will result in an error or misinterpretation.\n",
      "  warnings.warn(\n"
     ]
    },
    {
     "data": {
      "image/png": "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\n",
      "text/plain": [
       "<Figure size 432x288 with 1 Axes>"
      ]
     },
     "metadata": {
      "needs_background": "light"
     },
     "output_type": "display_data"
    }
   ],
   "source": [
    "sns.boxplot(diabet['class'] , diabet['age'])\n",
    "plt.show()"
   ]
  },
  {
   "cell_type": "code",
   "execution_count": 19,
   "id": "101ff37b",
   "metadata": {},
   "outputs": [
    {
     "data": {
      "image/png": "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\n",
      "text/plain": [
       "<Figure size 936x576 with 2 Axes>"
      ]
     },
     "metadata": {
      "needs_background": "light"
     },
     "output_type": "display_data"
    }
   ],
   "source": [
    "plt.figure(figsize = (13,8))\n",
    "sns.heatmap(diabet.corr() , annot= True)\n",
    "plt.show()"
   ]
  },
  {
   "cell_type": "code",
   "execution_count": 20,
   "id": "c6faaf8b",
   "metadata": {},
   "outputs": [],
   "source": [
    "X = diabet.drop(columns = ['class'] , axis = 1)\n",
    "Y = diabet['class']"
   ]
  },
  {
   "cell_type": "code",
   "execution_count": 21,
   "id": "60bd4225",
   "metadata": {},
   "outputs": [],
   "source": [
    "X_train , X_test , Y_train , Y_test = train_test_split(X , Y , test_size= 0.2 , stratify= Y )"
   ]
  },
  {
   "cell_type": "markdown",
   "id": "c1b98bf4",
   "metadata": {},
   "source": [
    "## DummyClassifier"
   ]
  },
  {
   "cell_type": "code",
   "execution_count": 22,
   "id": "0c5a67aa",
   "metadata": {},
   "outputs": [],
   "source": [
    "dummy = DummyClassifier()\n"
   ]
  },
  {
   "cell_type": "code",
   "execution_count": 23,
   "id": "a65aa271",
   "metadata": {},
   "outputs": [
    {
     "data": {
      "text/plain": [
       "DummyClassifier()"
      ]
     },
     "execution_count": 23,
     "metadata": {},
     "output_type": "execute_result"
    }
   ],
   "source": [
    "dummy.fit(X_train , Y_train)"
   ]
  },
  {
   "cell_type": "code",
   "execution_count": 24,
   "id": "b50f2a5a",
   "metadata": {},
   "outputs": [],
   "source": [
    "dummy_predict = dummy.predict(X_test)"
   ]
  },
  {
   "cell_type": "code",
   "execution_count": 25,
   "id": "7db03843",
   "metadata": {},
   "outputs": [
    {
     "data": {
      "text/plain": [
       "array([[ 0, 40],\n",
       "       [ 0, 64]], dtype=int64)"
      ]
     },
     "execution_count": 25,
     "metadata": {},
     "output_type": "execute_result"
    }
   ],
   "source": [
    "confusion_matrix(Y_test, dummy_predict)"
   ]
  },
  {
   "cell_type": "code",
   "execution_count": 26,
   "id": "5b3007ff",
   "metadata": {},
   "outputs": [
    {
     "name": "stdout",
     "output_type": "stream",
     "text": [
      "              precision    recall  f1-score   support\n",
      "\n",
      "           0       0.00      0.00      0.00        40\n",
      "           1       0.62      1.00      0.76        64\n",
      "\n",
      "    accuracy                           0.62       104\n",
      "   macro avg       0.31      0.50      0.38       104\n",
      "weighted avg       0.38      0.62      0.47       104\n",
      "\n"
     ]
    },
    {
     "name": "stderr",
     "output_type": "stream",
     "text": [
      "C:\\Users\\User\\anaconda3\\lib\\site-packages\\sklearn\\metrics\\_classification.py:1248: UndefinedMetricWarning: Precision and F-score are ill-defined and being set to 0.0 in labels with no predicted samples. Use `zero_division` parameter to control this behavior.\n",
      "  _warn_prf(average, modifier, msg_start, len(result))\n",
      "C:\\Users\\User\\anaconda3\\lib\\site-packages\\sklearn\\metrics\\_classification.py:1248: UndefinedMetricWarning: Precision and F-score are ill-defined and being set to 0.0 in labels with no predicted samples. Use `zero_division` parameter to control this behavior.\n",
      "  _warn_prf(average, modifier, msg_start, len(result))\n",
      "C:\\Users\\User\\anaconda3\\lib\\site-packages\\sklearn\\metrics\\_classification.py:1248: UndefinedMetricWarning: Precision and F-score are ill-defined and being set to 0.0 in labels with no predicted samples. Use `zero_division` parameter to control this behavior.\n",
      "  _warn_prf(average, modifier, msg_start, len(result))\n"
     ]
    }
   ],
   "source": [
    "print(classification_report(Y_test , dummy_predict ))"
   ]
  },
  {
   "cell_type": "markdown",
   "id": "89b29683",
   "metadata": {},
   "source": [
    "## LogisticRegression"
   ]
  },
  {
   "cell_type": "code",
   "execution_count": 27,
   "id": "8cd4b2f8",
   "metadata": {},
   "outputs": [],
   "source": [
    "log = LogisticRegression(max_iter=100000)"
   ]
  },
  {
   "cell_type": "code",
   "execution_count": 28,
   "id": "0db4cb56",
   "metadata": {},
   "outputs": [
    {
     "data": {
      "text/plain": [
       "LogisticRegression(max_iter=100000)"
      ]
     },
     "execution_count": 28,
     "metadata": {},
     "output_type": "execute_result"
    }
   ],
   "source": [
    "log.fit(X_train , Y_train)"
   ]
  },
  {
   "cell_type": "code",
   "execution_count": 29,
   "id": "bde72c2b",
   "metadata": {},
   "outputs": [],
   "source": [
    "log_predict = log.predict(X_test)"
   ]
  },
  {
   "cell_type": "code",
   "execution_count": 30,
   "id": "1700d1b9",
   "metadata": {},
   "outputs": [
    {
     "data": {
      "text/plain": [
       "array([[34,  6],\n",
       "       [ 2, 62]], dtype=int64)"
      ]
     },
     "execution_count": 30,
     "metadata": {},
     "output_type": "execute_result"
    }
   ],
   "source": [
    "confusion_matrix(Y_test , log_predict)"
   ]
  },
  {
   "cell_type": "code",
   "execution_count": 31,
   "id": "27344d7f",
   "metadata": {},
   "outputs": [
    {
     "name": "stdout",
     "output_type": "stream",
     "text": [
      "              precision    recall  f1-score   support\n",
      "\n",
      "           0       0.94      0.85      0.89        40\n",
      "           1       0.91      0.97      0.94        64\n",
      "\n",
      "    accuracy                           0.92       104\n",
      "   macro avg       0.93      0.91      0.92       104\n",
      "weighted avg       0.92      0.92      0.92       104\n",
      "\n"
     ]
    }
   ],
   "source": [
    "print(classification_report(Y_test , log_predict))"
   ]
  },
  {
   "cell_type": "code",
   "execution_count": 32,
   "id": "770ff0f9",
   "metadata": {},
   "outputs": [],
   "source": [
    "tree = DecisionTreeClassifier()\n"
   ]
  },
  {
   "cell_type": "code",
   "execution_count": 33,
   "id": "ba498cb5",
   "metadata": {},
   "outputs": [
    {
     "data": {
      "text/plain": [
       "DecisionTreeClassifier()"
      ]
     },
     "execution_count": 33,
     "metadata": {},
     "output_type": "execute_result"
    }
   ],
   "source": [
    "tree.fit(X_train , Y_train)"
   ]
  },
  {
   "cell_type": "code",
   "execution_count": 34,
   "id": "0fa14cb6",
   "metadata": {},
   "outputs": [],
   "source": [
    "tree_predict = tree.predict(X_test)"
   ]
  },
  {
   "cell_type": "code",
   "execution_count": 35,
   "id": "c7b85d63",
   "metadata": {},
   "outputs": [
    {
     "data": {
      "text/plain": [
       "array([[39,  1],\n",
       "       [ 2, 62]], dtype=int64)"
      ]
     },
     "execution_count": 35,
     "metadata": {},
     "output_type": "execute_result"
    }
   ],
   "source": [
    "confusion_matrix(Y_test , tree_predict)"
   ]
  },
  {
   "cell_type": "code",
   "execution_count": 36,
   "id": "b35829be",
   "metadata": {},
   "outputs": [
    {
     "name": "stdout",
     "output_type": "stream",
     "text": [
      "              precision    recall  f1-score   support\n",
      "\n",
      "           0       0.95      0.97      0.96        40\n",
      "           1       0.98      0.97      0.98        64\n",
      "\n",
      "    accuracy                           0.97       104\n",
      "   macro avg       0.97      0.97      0.97       104\n",
      "weighted avg       0.97      0.97      0.97       104\n",
      "\n"
     ]
    }
   ],
   "source": [
    "print(classification_report(Y_test , tree_predict))"
   ]
  },
  {
   "cell_type": "code",
   "execution_count": 37,
   "id": "0f810af9",
   "metadata": {},
   "outputs": [],
   "source": [
    "ran = RandomForestClassifier()"
   ]
  },
  {
   "cell_type": "code",
   "execution_count": 38,
   "id": "25b80312",
   "metadata": {},
   "outputs": [
    {
     "data": {
      "text/plain": [
       "RandomForestClassifier()"
      ]
     },
     "execution_count": 38,
     "metadata": {},
     "output_type": "execute_result"
    }
   ],
   "source": [
    "ran.fit(X_train , Y_train)"
   ]
  },
  {
   "cell_type": "code",
   "execution_count": 39,
   "id": "334b12f4",
   "metadata": {},
   "outputs": [],
   "source": [
    "ran_predict = ran.predict(X_test)"
   ]
  },
  {
   "cell_type": "code",
   "execution_count": 40,
   "id": "3ac9e729",
   "metadata": {},
   "outputs": [
    {
     "data": {
      "text/plain": [
       "array([[39,  1],\n",
       "       [ 0, 64]], dtype=int64)"
      ]
     },
     "execution_count": 40,
     "metadata": {},
     "output_type": "execute_result"
    }
   ],
   "source": [
    "confusion_matrix(Y_test , ran_predict)"
   ]
  },
  {
   "cell_type": "code",
   "execution_count": 41,
   "id": "e7384bad",
   "metadata": {},
   "outputs": [
    {
     "name": "stdout",
     "output_type": "stream",
     "text": [
      "              precision    recall  f1-score   support\n",
      "\n",
      "           0       1.00      0.97      0.99        40\n",
      "           1       0.98      1.00      0.99        64\n",
      "\n",
      "    accuracy                           0.99       104\n",
      "   macro avg       0.99      0.99      0.99       104\n",
      "weighted avg       0.99      0.99      0.99       104\n",
      "\n"
     ]
    }
   ],
   "source": [
    "print(classification_report(Y_test , ran_predict))"
   ]
  },
  {
   "cell_type": "code",
   "execution_count": 42,
   "id": "932df0cb",
   "metadata": {},
   "outputs": [],
   "source": [
    "diabet_predict = pd.DataFrame({'feature': X.columns , 'importance': ran.feature_importances_} )"
   ]
  },
  {
   "cell_type": "code",
   "execution_count": 43,
   "id": "1226d203",
   "metadata": {},
   "outputs": [],
   "source": [
    "diabet_predict = diabet_predict.sort_values('importance' , ascending = False)"
   ]
  },
  {
   "cell_type": "code",
   "execution_count": 44,
   "id": "1a407cf6",
   "metadata": {},
   "outputs": [
    {
     "data": {
      "text/html": [
       "<div>\n",
       "<style scoped>\n",
       "    .dataframe tbody tr th:only-of-type {\n",
       "        vertical-align: middle;\n",
       "    }\n",
       "\n",
       "    .dataframe tbody tr th {\n",
       "        vertical-align: top;\n",
       "    }\n",
       "\n",
       "    .dataframe thead th {\n",
       "        text-align: right;\n",
       "    }\n",
       "</style>\n",
       "<table border=\"1\" class=\"dataframe\">\n",
       "  <thead>\n",
       "    <tr style=\"text-align: right;\">\n",
       "      <th></th>\n",
       "      <th>feature</th>\n",
       "      <th>importance</th>\n",
       "    </tr>\n",
       "  </thead>\n",
       "  <tbody>\n",
       "    <tr>\n",
       "      <th>2</th>\n",
       "      <td>polyuria</td>\n",
       "      <td>0.223145</td>\n",
       "    </tr>\n",
       "    <tr>\n",
       "      <th>3</th>\n",
       "      <td>polydipsia</td>\n",
       "      <td>0.188303</td>\n",
       "    </tr>\n",
       "    <tr>\n",
       "      <th>1</th>\n",
       "      <td>gender</td>\n",
       "      <td>0.113336</td>\n",
       "    </tr>\n",
       "    <tr>\n",
       "      <th>0</th>\n",
       "      <td>age</td>\n",
       "      <td>0.089355</td>\n",
       "    </tr>\n",
       "    <tr>\n",
       "      <th>4</th>\n",
       "      <td>sudden weight loss</td>\n",
       "      <td>0.060180</td>\n",
       "    </tr>\n",
       "    <tr>\n",
       "      <th>14</th>\n",
       "      <td>alopecia</td>\n",
       "      <td>0.044682</td>\n",
       "    </tr>\n",
       "    <tr>\n",
       "      <th>10</th>\n",
       "      <td>irritability</td>\n",
       "      <td>0.042082</td>\n",
       "    </tr>\n",
       "    <tr>\n",
       "      <th>11</th>\n",
       "      <td>delayed healing</td>\n",
       "      <td>0.035542</td>\n",
       "    </tr>\n",
       "    <tr>\n",
       "      <th>12</th>\n",
       "      <td>partial paresis</td>\n",
       "      <td>0.035394</td>\n",
       "    </tr>\n",
       "    <tr>\n",
       "      <th>6</th>\n",
       "      <td>polyphagia</td>\n",
       "      <td>0.032882</td>\n",
       "    </tr>\n",
       "    <tr>\n",
       "      <th>8</th>\n",
       "      <td>visual blurring</td>\n",
       "      <td>0.029598</td>\n",
       "    </tr>\n",
       "    <tr>\n",
       "      <th>9</th>\n",
       "      <td>itching</td>\n",
       "      <td>0.028914</td>\n",
       "    </tr>\n",
       "    <tr>\n",
       "      <th>13</th>\n",
       "      <td>muscle stiffness</td>\n",
       "      <td>0.024799</td>\n",
       "    </tr>\n",
       "    <tr>\n",
       "      <th>5</th>\n",
       "      <td>weakness</td>\n",
       "      <td>0.020792</td>\n",
       "    </tr>\n",
       "    <tr>\n",
       "      <th>7</th>\n",
       "      <td>genital thrush</td>\n",
       "      <td>0.018690</td>\n",
       "    </tr>\n",
       "    <tr>\n",
       "      <th>15</th>\n",
       "      <td>obesity</td>\n",
       "      <td>0.012306</td>\n",
       "    </tr>\n",
       "  </tbody>\n",
       "</table>\n",
       "</div>"
      ],
      "text/plain": [
       "               feature  importance\n",
       "2             polyuria    0.223145\n",
       "3           polydipsia    0.188303\n",
       "1               gender    0.113336\n",
       "0                  age    0.089355\n",
       "4   sudden weight loss    0.060180\n",
       "14            alopecia    0.044682\n",
       "10        irritability    0.042082\n",
       "11     delayed healing    0.035542\n",
       "12     partial paresis    0.035394\n",
       "6           polyphagia    0.032882\n",
       "8      visual blurring    0.029598\n",
       "9              itching    0.028914\n",
       "13    muscle stiffness    0.024799\n",
       "5             weakness    0.020792\n",
       "7       genital thrush    0.018690\n",
       "15             obesity    0.012306"
      ]
     },
     "execution_count": 44,
     "metadata": {},
     "output_type": "execute_result"
    }
   ],
   "source": [
    "diabet_predict"
   ]
  },
  {
   "cell_type": "code",
   "execution_count": 45,
   "id": "c73f111d",
   "metadata": {},
   "outputs": [],
   "source": [
    "diabet_predict['importance'] =  round(diabet_predict['importance'] , ndigits = 4)"
   ]
  },
  {
   "cell_type": "code",
   "execution_count": null,
   "id": "0d1a4c42",
   "metadata": {},
   "outputs": [],
   "source": []
  },
  {
   "cell_type": "code",
   "execution_count": 46,
   "id": "657f9383",
   "metadata": {},
   "outputs": [],
   "source": [
    "diabet_predict.to_excel('Predict2.xlsx')"
   ]
  },
  {
   "cell_type": "code",
   "execution_count": null,
   "id": "f157e4ce",
   "metadata": {},
   "outputs": [],
   "source": []
  }
 ],
 "metadata": {
  "kernelspec": {
   "display_name": "Python 3 (ipykernel)",
   "language": "python",
   "name": "python3"
  },
  "language_info": {
   "codemirror_mode": {
    "name": "ipython",
    "version": 3
   },
   "file_extension": ".py",
   "mimetype": "text/x-python",
   "name": "python",
   "nbconvert_exporter": "python",
   "pygments_lexer": "ipython3",
   "version": "3.9.7"
  }
 },
 "nbformat": 4,
 "nbformat_minor": 5
}
